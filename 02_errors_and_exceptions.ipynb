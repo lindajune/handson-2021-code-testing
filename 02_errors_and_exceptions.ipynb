{
  "nbformat": 4,
  "nbformat_minor": 0,
  "metadata": {
    "colab": {
      "name": "02_errors-and-exceptions.ipynb",
      "provenance": [],
      "collapsed_sections": [],
      "toc_visible": true,
      "authorship_tag": "ABX9TyP3WQUnL9tYpoQyG1h/EBrA",
      "include_colab_link": true
    },
    "kernelspec": {
      "name": "python3",
      "display_name": "Python 3"
    },
    "language_info": {
      "name": "python"
    }
  },
  "cells": [
    {
      "cell_type": "markdown",
      "metadata": {
        "id": "view-in-github",
        "colab_type": "text"
      },
      "source": [
        "<a href=\"https://colab.research.google.com/github/lindajune/handson-2021-code-testing/blob/main/02_errors_and_exceptions.ipynb\" target=\"_parent\"><img src=\"https://colab.research.google.com/assets/colab-badge.svg\" alt=\"Open In Colab\"/></a>"
      ]
    },
    {
      "cell_type": "markdown",
      "metadata": {
        "id": "ZK2fGTYywuRK"
      },
      "source": [
        "# Errors and Exceptions\n",
        "---"
      ]
    },
    {
      "cell_type": "markdown",
      "metadata": {
        "id": "orm3HQJdw04x"
      },
      "source": [
        "Until now error messages haven’t been more than mentioned, but if you have tried out the python examples you have probably seen some. There are (at least) two distinguishable kinds of errors: syntax errors and exceptions.\n",
        "\n",
        "This brief illustration was adapted from the [Python Tutorial](https://docs.python.org/3/tutorial/errors.html#). "
      ]
    },
    {
      "cell_type": "markdown",
      "metadata": {
        "id": "Lmbm1ZmPxWj-"
      },
      "source": [
        "## Syntax Errors\n",
        "Syntax errors, also known as parsing errors, are perhaps the most common kind of complaint you get while you are still learning Python.\n",
        "\n",
        "The parser repeats the offending line and displays a little ‘arrow’ (^) pointing at the earliest point in the line where the error was detected. The error is caused by (or at least detected at) the token preceding the arrow. File name and line number are printed so you know where to look in case the input came from a script."
      ]
    },
    {
      "cell_type": "markdown",
      "metadata": {
        "id": "qZb0ydtO7l_a"
      },
      "source": [
        "### example 1:\n",
        "in this example, the error is detected at the end of if i ==3, since a colon (':') is missing after it. "
      ]
    },
    {
      "cell_type": "code",
      "metadata": {
        "colab": {
          "base_uri": "https://localhost:8080/",
          "height": 134
        },
        "id": "GvRyRbOg7Jrj",
        "outputId": "f607d544-f99a-48f4-d1b2-ac7413557575"
      },
      "source": [
        "a=[1,2,3]\n",
        "for i in a:\n",
        "  if i == 3\n",
        "    print('Hello world')"
      ],
      "execution_count": null,
      "outputs": [
        {
          "output_type": "error",
          "ename": "SyntaxError",
          "evalue": "ignored",
          "traceback": [
            "\u001b[0;36m  File \u001b[0;32m\"<ipython-input-1-50d0ba2f498a>\"\u001b[0;36m, line \u001b[0;32m3\u001b[0m\n\u001b[0;31m    if i == 3\u001b[0m\n\u001b[0m             ^\u001b[0m\n\u001b[0;31mSyntaxError\u001b[0m\u001b[0;31m:\u001b[0m invalid syntax\n"
          ]
        }
      ]
    },
    {
      "cell_type": "markdown",
      "metadata": {
        "id": "0-tU3j988unh"
      },
      "source": [
        "please correct this example and run it:"
      ]
    },
    {
      "cell_type": "code",
      "metadata": {
        "id": "XhmnaJ2n8xml"
      },
      "source": [
        ""
      ],
      "execution_count": null,
      "outputs": []
    },
    {
      "cell_type": "markdown",
      "metadata": {
        "id": "Z-_bfsc37tgL"
      },
      "source": [
        "### example 2:\n",
        "in the example, the error is detected at the function print(), since a colon (':') is missing before it. "
      ]
    },
    {
      "cell_type": "code",
      "metadata": {
        "colab": {
          "base_uri": "https://localhost:8080/",
          "height": 134
        },
        "id": "Ks-EEopn7yr0",
        "outputId": "b10ea4e2-cf41-4f38-fa6c-571929e25188"
      },
      "source": [
        "while True print('Hello world')"
      ],
      "execution_count": null,
      "outputs": [
        {
          "output_type": "error",
          "ename": "SyntaxError",
          "evalue": "ignored",
          "traceback": [
            "\u001b[0;36m  File \u001b[0;32m\"<ipython-input-4-2b688bc740d7>\"\u001b[0;36m, line \u001b[0;32m1\u001b[0m\n\u001b[0;31m    while True print('Hello world')\u001b[0m\n\u001b[0m                   ^\u001b[0m\n\u001b[0;31mSyntaxError\u001b[0m\u001b[0;31m:\u001b[0m invalid syntax\n"
          ]
        }
      ]
    },
    {
      "cell_type": "markdown",
      "metadata": {
        "id": "W-8Kul2R809L"
      },
      "source": [
        "please correct this example and run it:"
      ]
    },
    {
      "cell_type": "code",
      "metadata": {
        "id": "cxAgXu6u81cu"
      },
      "source": [
        ""
      ],
      "execution_count": null,
      "outputs": []
    },
    {
      "cell_type": "markdown",
      "metadata": {
        "id": "nlXMylewh9RL"
      },
      "source": [
        "### quiz\n",
        "please identify and correct the syntex errors below"
      ]
    },
    {
      "cell_type": "code",
      "metadata": {
        "id": "d9sHx7nRh-JT"
      },
      "source": [
        "## task 1: use the variable a and b to print \"Hello, World!\".\n",
        "a='Hello'\n",
        "b='World'\n",
        "print (a + b + !)"
      ],
      "execution_count": null,
      "outputs": []
    },
    {
      "cell_type": "code",
      "metadata": {
        "id": "EK57Xz4yijs1"
      },
      "source": [
        "## task 2: print \"Warning: count value reached 5\" when count value is 5\n",
        "count=0\n",
        "while(count<5)\n",
        "    print(count)\n",
        "    count +=1\n",
        "else\n",
        "    print(\"count value reached %d\" %(count))"
      ],
      "execution_count": null,
      "outputs": []
    },
    {
      "cell_type": "markdown",
      "metadata": {
        "id": "MduwVSO59BM5"
      },
      "source": [
        "## Exceptions\n",
        "Even if a statement or expression is syntactically correct, it may cause an error when an attempt is made to execute it. Errors detected during execution are called exceptions and are **not unconditionally fatal**. Most exceptions are not handled by programs, however, and result in error messages as shown in the examples below:\n",
        "\n",
        "note:\n",
        "\n",
        "    -The last line of the error message indicates what happened. \n",
        "    Exceptions come in different types, and the type is printed as part of the message: the types in the example are ZeroDivisionError, NameError and TypeError;\n",
        "    -The rest of the line provides detail based on the type of exception and what caused it."
      ]
    },
    {
      "cell_type": "markdown",
      "metadata": {
        "id": "LTyswcCr_ZTD"
      },
      "source": [
        "### example 1:"
      ]
    },
    {
      "cell_type": "code",
      "metadata": {
        "colab": {
          "base_uri": "https://localhost:8080/",
          "height": 171
        },
        "id": "F3Cgjryz9alV",
        "outputId": "efccda04-4ec6-4e0d-d8ae-9a11f957b2ee"
      },
      "source": [
        "10 * (1/0)"
      ],
      "execution_count": null,
      "outputs": [
        {
          "output_type": "error",
          "ename": "ZeroDivisionError",
          "evalue": "ignored",
          "traceback": [
            "\u001b[0;31m---------------------------------------------------------------------------\u001b[0m",
            "\u001b[0;31mZeroDivisionError\u001b[0m                         Traceback (most recent call last)",
            "\u001b[0;32m<ipython-input-6-0b280f36835c>\u001b[0m in \u001b[0;36m<module>\u001b[0;34m()\u001b[0m\n\u001b[0;32m----> 1\u001b[0;31m \u001b[0;36m10\u001b[0m \u001b[0;34m*\u001b[0m \u001b[0;34m(\u001b[0m\u001b[0;36m1\u001b[0m\u001b[0;34m/\u001b[0m\u001b[0;36m0\u001b[0m\u001b[0;34m)\u001b[0m\u001b[0;34m\u001b[0m\u001b[0;34m\u001b[0m\u001b[0m\n\u001b[0m",
            "\u001b[0;31mZeroDivisionError\u001b[0m: division by zero"
          ]
        }
      ]
    },
    {
      "cell_type": "markdown",
      "metadata": {
        "id": "TNIOJOsm_bmy"
      },
      "source": [
        "### example 2:"
      ]
    },
    {
      "cell_type": "code",
      "metadata": {
        "colab": {
          "base_uri": "https://localhost:8080/",
          "height": 171
        },
        "id": "0Byt97_h9bK2",
        "outputId": "fcf38c48-4499-4a93-b944-99e27c2d0409"
      },
      "source": [
        "4 + spam*3"
      ],
      "execution_count": null,
      "outputs": [
        {
          "output_type": "error",
          "ename": "NameError",
          "evalue": "ignored",
          "traceback": [
            "\u001b[0;31m---------------------------------------------------------------------------\u001b[0m",
            "\u001b[0;31mNameError\u001b[0m                                 Traceback (most recent call last)",
            "\u001b[0;32m<ipython-input-7-c98bb92cdcac>\u001b[0m in \u001b[0;36m<module>\u001b[0;34m()\u001b[0m\n\u001b[0;32m----> 1\u001b[0;31m \u001b[0;36m4\u001b[0m \u001b[0;34m+\u001b[0m \u001b[0mspam\u001b[0m\u001b[0;34m*\u001b[0m\u001b[0;36m3\u001b[0m\u001b[0;34m\u001b[0m\u001b[0;34m\u001b[0m\u001b[0m\n\u001b[0m",
            "\u001b[0;31mNameError\u001b[0m: name 'spam' is not defined"
          ]
        }
      ]
    },
    {
      "cell_type": "markdown",
      "metadata": {
        "id": "_Blu5dLm_i9y"
      },
      "source": [
        "please correct this example and run it:"
      ]
    },
    {
      "cell_type": "code",
      "metadata": {
        "id": "TVyC0cbt_jqe"
      },
      "source": [
        ""
      ],
      "execution_count": null,
      "outputs": []
    },
    {
      "cell_type": "markdown",
      "metadata": {
        "id": "lE_VXAtw_ed0"
      },
      "source": [
        "### example 3:"
      ]
    },
    {
      "cell_type": "code",
      "metadata": {
        "colab": {
          "base_uri": "https://localhost:8080/",
          "height": 171
        },
        "id": "pB951q0k9eig",
        "outputId": "bf56fa3c-3e33-4ee6-b323-94629a47fbaf"
      },
      "source": [
        "'2' + 2"
      ],
      "execution_count": null,
      "outputs": [
        {
          "output_type": "error",
          "ename": "TypeError",
          "evalue": "ignored",
          "traceback": [
            "\u001b[0;31m---------------------------------------------------------------------------\u001b[0m",
            "\u001b[0;31mTypeError\u001b[0m                                 Traceback (most recent call last)",
            "\u001b[0;32m<ipython-input-8-d2b23a1db757>\u001b[0m in \u001b[0;36m<module>\u001b[0;34m()\u001b[0m\n\u001b[0;32m----> 1\u001b[0;31m \u001b[0;34m'2'\u001b[0m \u001b[0;34m+\u001b[0m \u001b[0;36m2\u001b[0m\u001b[0;34m\u001b[0m\u001b[0;34m\u001b[0m\u001b[0m\n\u001b[0m",
            "\u001b[0;31mTypeError\u001b[0m: can only concatenate str (not \"int\") to str"
          ]
        }
      ]
    },
    {
      "cell_type": "markdown",
      "metadata": {
        "id": "55b-lnm9_kV_"
      },
      "source": [
        "please correct this example and run it:"
      ]
    },
    {
      "cell_type": "code",
      "metadata": {
        "id": "0xTero-t_lBb"
      },
      "source": [
        ""
      ],
      "execution_count": null,
      "outputs": []
    },
    {
      "cell_type": "markdown",
      "metadata": {
        "id": "dohh9CGBjT69"
      },
      "source": [
        "### quiz\n",
        "please identify and correct the errors below"
      ]
    },
    {
      "cell_type": "code",
      "metadata": {
        "id": "x3yA3EjGjVDi",
        "colab": {
          "base_uri": "https://localhost:8080/",
          "height": 226
        },
        "outputId": "7390e63e-163d-484c-9af5-64b280e1dde2"
      },
      "source": [
        "## task: creat and print Numpy Arrays\n",
        "\n",
        "# Create 2 new lists height and weight\n",
        "height = [1.87,  1.87, 1.82, 1.91, 1.90, 1.85]\n",
        "weight = [81.65, 97.52, 95.25, 92.98, 86.18, 88.45]\n",
        "\n",
        "# Create 2 numpy arrays from height and weight\n",
        "np_height = np.array(height)\n",
        "np_weight = np.array(weight)\n",
        "print(np_height)\n",
        "print(np_weight.type)"
      ],
      "execution_count": null,
      "outputs": [
        {
          "output_type": "stream",
          "text": [
            "[1.87 1.87 1.82 1.91 1.9  1.85]\n"
          ],
          "name": "stdout"
        },
        {
          "output_type": "error",
          "ename": "AttributeError",
          "evalue": "ignored",
          "traceback": [
            "\u001b[0;31m---------------------------------------------------------------------------\u001b[0m",
            "\u001b[0;31mAttributeError\u001b[0m                            Traceback (most recent call last)",
            "\u001b[0;32m<ipython-input-2-ee673403d8e7>\u001b[0m in \u001b[0;36m<module>\u001b[0;34m()\u001b[0m\n\u001b[1;32m     10\u001b[0m \u001b[0mnp_weight\u001b[0m \u001b[0;34m=\u001b[0m \u001b[0mnp\u001b[0m\u001b[0;34m.\u001b[0m\u001b[0marray\u001b[0m\u001b[0;34m(\u001b[0m\u001b[0mweight\u001b[0m\u001b[0;34m)\u001b[0m\u001b[0;34m\u001b[0m\u001b[0;34m\u001b[0m\u001b[0m\n\u001b[1;32m     11\u001b[0m \u001b[0mprint\u001b[0m\u001b[0;34m(\u001b[0m\u001b[0mnp_height\u001b[0m\u001b[0;34m)\u001b[0m\u001b[0;34m\u001b[0m\u001b[0;34m\u001b[0m\u001b[0m\n\u001b[0;32m---> 12\u001b[0;31m \u001b[0mprint\u001b[0m\u001b[0;34m(\u001b[0m\u001b[0mnp_weight\u001b[0m\u001b[0;34m.\u001b[0m\u001b[0mtype\u001b[0m\u001b[0;34m)\u001b[0m\u001b[0;34m\u001b[0m\u001b[0;34m\u001b[0m\u001b[0m\n\u001b[0m",
            "\u001b[0;31mAttributeError\u001b[0m: 'numpy.ndarray' object has no attribute 'type'"
          ]
        }
      ]
    },
    {
      "cell_type": "markdown",
      "metadata": {
        "id": "A4pl-GJN_qEp"
      },
      "source": [
        "## Handling Exceptions\n",
        "It is possible to write programs that handle selected exceptions. Look at the following example, which asks the user for input until a valid integer has been entered, but allows the user to interrupt the program (using Control-C or whatever the operating system supports); note that a user-generated interruption is signalled by raising the KeyboardInterrupt exception."
      ]
    },
    {
      "cell_type": "markdown",
      "metadata": {
        "id": "5ZJ7g2vcAUSu"
      },
      "source": [
        "### example"
      ]
    },
    {
      "cell_type": "code",
      "metadata": {
        "id": "TbX60kiS_2lC"
      },
      "source": [
        "while True:\n",
        "  try:\n",
        "    x = int(input(\"Please enter a number: \"))\n",
        "    break\n",
        "  except ValueError:\n",
        "    print(\"Oops!  That was no valid number.  Try again...\")"
      ],
      "execution_count": null,
      "outputs": []
    },
    {
      "cell_type": "markdown",
      "metadata": {
        "id": "6O2PhGLsAWE_"
      },
      "source": [
        "### quiz\n",
        "please write codes that ask for the user to input their body height; the exception is \"when the body height is over 3 meters or less than 10 centimeters, remind the user to double-check the suspicious value\".\n",
        "\n",
        "- details of the [try](https://docs.python.org/3/reference/compound_stmts.html#the-try-statement) statement;\n",
        "\n",
        "- if you really have no clue of solving this quiz, here is an [example](https://colab.research.google.com/drive/1hIxOT4ez-FXbMJ3qoDV0mrrm1K1ZqIqa?usp=sharing) for you to refer to: "
      ]
    },
    {
      "cell_type": "code",
      "metadata": {
        "id": "h6fIFewnJCmE"
      },
      "source": [
        "try:    \n",
        "    # ask the user to input their body height\n",
        "    height = float(input(\"Please enter your body height (m): \")) \n",
        "\n",
        "    # decide whether the value is valid\n",
        "      \n",
        "except ValueError:    \n",
        "    # do Error specific handling\n",
        "    "
      ],
      "execution_count": null,
      "outputs": []
    },
    {
      "cell_type": "markdown",
      "metadata": {
        "id": "f4-S8EVn_r75"
      },
      "source": [
        "- have more time? Try out according to your own setting ..."
      ]
    },
    {
      "cell_type": "code",
      "metadata": {
        "id": "ZQaqic3o_2t-"
      },
      "source": [
        ""
      ],
      "execution_count": null,
      "outputs": []
    },
    {
      "cell_type": "markdown",
      "metadata": {
        "id": "XSQrhzIxLJx3"
      },
      "source": [
        "## More\n",
        "\n",
        "More information of exeptions and could be found [here](https://docs.python.org/3/tutorial/errors.html#handling-exceptions). "
      ]
    }
  ]
}